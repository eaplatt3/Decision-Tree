{
 "cells": [
  {
   "cell_type": "code",
   "execution_count": 3,
   "metadata": {},
   "outputs": [
    {
     "name": "stdout",
     "output_type": "stream",
     "text": [
      "<class 'pandas.core.frame.DataFrame'>\n",
      "RangeIndex: 11095 entries, 0 to 11094\n",
      "Data columns (total 17 columns):\n",
      " #   Column                       Non-Null Count  Dtype  \n",
      "---  ------                       --------------  -----  \n",
      " 0   TARGET_B                     11095 non-null  object \n",
      " 1   MONTHS_SINCE_ORIGIN          11095 non-null  int64  \n",
      " 2   DONOR_AGE                    8532 non-null   float64\n",
      " 3   INCOME_GROUP                 8801 non-null   float64\n",
      " 4   WEALTH_RATING                6311 non-null   float64\n",
      " 5   MEDIAN_HOME_VALUE            11095 non-null  int64  \n",
      " 6   MEDIAN_HOUSEHOLD_INCOME      11095 non-null  int64  \n",
      " 7   PER_CAPITA_INCOME            11095 non-null  int64  \n",
      " 8   RECENT_RESPONSE_COUNT        11095 non-null  int64  \n",
      " 9   RECENT_CARD_RESPONSE_COUNT   11095 non-null  int64  \n",
      " 10  MONTHS_SINCE_LAST_PROM_RESP  10952 non-null  float64\n",
      " 11  LIFETIME_CARD_PROM           11095 non-null  int64  \n",
      " 12  LIFETIME_GIFT_COUNT          11095 non-null  int64  \n",
      " 13  CARD_PROM_12                 11095 non-null  int64  \n",
      " 14  NUMBER_PROM_12               11095 non-null  int64  \n",
      " 15  MONTHS_SINCE_LAST_GIFT       11095 non-null  int64  \n",
      " 16  MONTHS_SINCE_FIRST_GIFT      11095 non-null  int64  \n",
      "dtypes: float64(4), int64(12), object(1)\n",
      "memory usage: 1.4+ MB\n"
     ]
    }
   ],
   "source": [
    "import numpy as np\n",
    "import pandas as pd\n",
    "from sklearn.model_selection import train_test_split\n",
    "from sklearn.tree import DecisionTreeClassifier, plot_tree\n",
    "from sklearn.metrics import accuracy_score\n",
    "import matplotlib.pyplot as plt\n",
    "\n",
    "# Load the data\n",
    "df = pd.read_csv('11_donor exercise.csv')\n",
    "df.head()\n",
    "\n",
    "# Display the data types of each column\n",
    "df.info()\n",
    "\n",
    "# Drop Empty rows\n",
    "df = df.dropna()"
   ]
  }
 ],
 "metadata": {
  "kernelspec": {
   "display_name": "Python 3",
   "language": "python",
   "name": "python3"
  },
  "language_info": {
   "codemirror_mode": {
    "name": "ipython",
    "version": 3
   },
   "file_extension": ".py",
   "mimetype": "text/x-python",
   "name": "python",
   "nbconvert_exporter": "python",
   "pygments_lexer": "ipython3",
   "version": "3.7.8"
  }
 },
 "nbformat": 4,
 "nbformat_minor": 2
}
